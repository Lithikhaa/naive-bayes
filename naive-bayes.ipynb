{
 "cells": [
  {
   "cell_type": "code",
   "execution_count": 1,
   "id": "5c0f97cb",
   "metadata": {
    "_cell_guid": "b1076dfc-b9ad-4769-8c92-a6c4dae69d19",
    "_uuid": "8f2839f25d086af736a60e9eeb907d3b93b6e0e5",
    "execution": {
     "iopub.execute_input": "2023-02-14T10:33:04.320998Z",
     "iopub.status.busy": "2023-02-14T10:33:04.320233Z",
     "iopub.status.idle": "2023-02-14T10:33:04.340436Z",
     "shell.execute_reply": "2023-02-14T10:33:04.339206Z"
    },
    "papermill": {
     "duration": 0.03208,
     "end_time": "2023-02-14T10:33:04.344361",
     "exception": false,
     "start_time": "2023-02-14T10:33:04.312281",
     "status": "completed"
    },
    "tags": []
   },
   "outputs": [
    {
     "name": "stdout",
     "output_type": "stream",
     "text": [
      "/kaggle/input/credit-card/credit_card.csv\n"
     ]
    }
   ],
   "source": [
    "# This Python 3 environment comes with many helpful analytics libraries installed\n",
    "# It is defined by the kaggle/python Docker image: https://github.com/kaggle/docker-python\n",
    "# For example, here's several helpful packages to load\n",
    "\n",
    "import numpy as np # linear algebra\n",
    "import pandas as pd # data processing, CSV file I/O (e.g. pd.read_csv)\n",
    "\n",
    "# Input data files are available in the read-only \"../input/\" directory\n",
    "# For example, running this (by clicking run or pressing Shift+Enter) will list all files under the input directory\n",
    "\n",
    "import os\n",
    "for dirname, _, filenames in os.walk('/kaggle/input'):\n",
    "    for filename in filenames:\n",
    "        print(os.path.join(dirname, filename))\n",
    "\n",
    "# You can write up to 20GB to the current directory (/kaggle/working/) that gets preserved as output when you create a version using \"Save & Run All\" \n",
    "# You can also write temporary files to /kaggle/temp/, but they won't be saved outside of the current session"
   ]
  },
  {
   "cell_type": "code",
   "execution_count": 2,
   "id": "64c5c930",
   "metadata": {
    "execution": {
     "iopub.execute_input": "2023-02-14T10:33:04.357745Z",
     "iopub.status.busy": "2023-02-14T10:33:04.356988Z",
     "iopub.status.idle": "2023-02-14T10:33:05.771795Z",
     "shell.execute_reply": "2023-02-14T10:33:05.770677Z"
    },
    "papermill": {
     "duration": 1.424209,
     "end_time": "2023-02-14T10:33:05.774517",
     "exception": false,
     "start_time": "2023-02-14T10:33:04.350308",
     "status": "completed"
    },
    "tags": []
   },
   "outputs": [],
   "source": [
    "\n",
    "import matplotlib.pyplot as plt\n",
    "import numpy as np\n",
    "import pandas as pd\n",
    "from sklearn.model_selection import train_test_split\n",
    "from sklearn.preprocessing import StandardScaler\n",
    "from sklearn.naive_bayes import GaussianNB\n",
    "classifier = GaussianNB\n",
    "from sklearn.metrics import  confusion_matrix\n",
    "from sklearn.tree import export_graphviz\n",
    "import graphviz\n",
    "import seaborn as sns"
   ]
  },
  {
   "cell_type": "code",
   "execution_count": 3,
   "id": "79af59a8",
   "metadata": {
    "execution": {
     "iopub.execute_input": "2023-02-14T10:33:05.787313Z",
     "iopub.status.busy": "2023-02-14T10:33:05.786525Z",
     "iopub.status.idle": "2023-02-14T10:33:05.824391Z",
     "shell.execute_reply": "2023-02-14T10:33:05.822548Z"
    },
    "papermill": {
     "duration": 0.051259,
     "end_time": "2023-02-14T10:33:05.831039",
     "exception": false,
     "start_time": "2023-02-14T10:33:05.779780",
     "status": "completed"
    },
    "tags": []
   },
   "outputs": [],
   "source": [
    "df = pd.read_csv('/kaggle/input/credit-card/credit_card.csv')"
   ]
  },
  {
   "cell_type": "code",
   "execution_count": 4,
   "id": "9bd742d9",
   "metadata": {
    "execution": {
     "iopub.execute_input": "2023-02-14T10:33:05.845844Z",
     "iopub.status.busy": "2023-02-14T10:33:05.845307Z",
     "iopub.status.idle": "2023-02-14T10:33:05.876085Z",
     "shell.execute_reply": "2023-02-14T10:33:05.874514Z"
    },
    "papermill": {
     "duration": 0.041739,
     "end_time": "2023-02-14T10:33:05.878897",
     "exception": false,
     "start_time": "2023-02-14T10:33:05.837158",
     "status": "completed"
    },
    "tags": []
   },
   "outputs": [
    {
     "data": {
      "text/html": [
       "<div>\n",
       "<style scoped>\n",
       "    .dataframe tbody tr th:only-of-type {\n",
       "        vertical-align: middle;\n",
       "    }\n",
       "\n",
       "    .dataframe tbody tr th {\n",
       "        vertical-align: top;\n",
       "    }\n",
       "\n",
       "    .dataframe thead th {\n",
       "        text-align: right;\n",
       "    }\n",
       "</style>\n",
       "<table border=\"1\" class=\"dataframe\">\n",
       "  <thead>\n",
       "    <tr style=\"text-align: right;\">\n",
       "      <th></th>\n",
       "      <th>distance_from_home</th>\n",
       "      <th>distance_from_last_transaction</th>\n",
       "      <th>ratio_to_median_purchase_price</th>\n",
       "      <th>repeat_retailer</th>\n",
       "      <th>used_chip</th>\n",
       "      <th>used_pin_number</th>\n",
       "      <th>online_order</th>\n",
       "      <th>fraud</th>\n",
       "    </tr>\n",
       "  </thead>\n",
       "  <tbody>\n",
       "    <tr>\n",
       "      <th>0</th>\n",
       "      <td>57.877857</td>\n",
       "      <td>0.311140</td>\n",
       "      <td>1.945940</td>\n",
       "      <td>1</td>\n",
       "      <td>1</td>\n",
       "      <td>0</td>\n",
       "      <td>0</td>\n",
       "      <td>0</td>\n",
       "    </tr>\n",
       "    <tr>\n",
       "      <th>1</th>\n",
       "      <td>10.829943</td>\n",
       "      <td>0.175592</td>\n",
       "      <td>1.294219</td>\n",
       "      <td>1</td>\n",
       "      <td>0</td>\n",
       "      <td>0</td>\n",
       "      <td>0</td>\n",
       "      <td>0</td>\n",
       "    </tr>\n",
       "    <tr>\n",
       "      <th>2</th>\n",
       "      <td>5.091079</td>\n",
       "      <td>0.805153</td>\n",
       "      <td>0.427715</td>\n",
       "      <td>1</td>\n",
       "      <td>0</td>\n",
       "      <td>0</td>\n",
       "      <td>1</td>\n",
       "      <td>0</td>\n",
       "    </tr>\n",
       "    <tr>\n",
       "      <th>3</th>\n",
       "      <td>2.247564</td>\n",
       "      <td>5.600044</td>\n",
       "      <td>0.362663</td>\n",
       "      <td>1</td>\n",
       "      <td>1</td>\n",
       "      <td>0</td>\n",
       "      <td>1</td>\n",
       "      <td>0</td>\n",
       "    </tr>\n",
       "    <tr>\n",
       "      <th>4</th>\n",
       "      <td>44.190936</td>\n",
       "      <td>0.566486</td>\n",
       "      <td>2.222767</td>\n",
       "      <td>1</td>\n",
       "      <td>1</td>\n",
       "      <td>0</td>\n",
       "      <td>1</td>\n",
       "      <td>0</td>\n",
       "    </tr>\n",
       "  </tbody>\n",
       "</table>\n",
       "</div>"
      ],
      "text/plain": [
       "   distance_from_home  distance_from_last_transaction  \\\n",
       "0           57.877857                        0.311140   \n",
       "1           10.829943                        0.175592   \n",
       "2            5.091079                        0.805153   \n",
       "3            2.247564                        5.600044   \n",
       "4           44.190936                        0.566486   \n",
       "\n",
       "   ratio_to_median_purchase_price  repeat_retailer  used_chip  \\\n",
       "0                        1.945940                1          1   \n",
       "1                        1.294219                1          0   \n",
       "2                        0.427715                1          0   \n",
       "3                        0.362663                1          1   \n",
       "4                        2.222767                1          1   \n",
       "\n",
       "   used_pin_number  online_order  fraud  \n",
       "0                0             0      0  \n",
       "1                0             0      0  \n",
       "2                0             1      0  \n",
       "3                0             1      0  \n",
       "4                0             1      0  "
      ]
     },
     "execution_count": 4,
     "metadata": {},
     "output_type": "execute_result"
    }
   ],
   "source": [
    "df.head()"
   ]
  },
  {
   "cell_type": "code",
   "execution_count": 5,
   "id": "29f68e73",
   "metadata": {
    "execution": {
     "iopub.execute_input": "2023-02-14T10:33:05.891885Z",
     "iopub.status.busy": "2023-02-14T10:33:05.891406Z",
     "iopub.status.idle": "2023-02-14T10:33:05.903115Z",
     "shell.execute_reply": "2023-02-14T10:33:05.901988Z"
    },
    "papermill": {
     "duration": 0.020885,
     "end_time": "2023-02-14T10:33:05.905374",
     "exception": false,
     "start_time": "2023-02-14T10:33:05.884489",
     "status": "completed"
    },
    "tags": []
   },
   "outputs": [
    {
     "data": {
      "text/plain": [
       "<bound method NDFrame.describe of       distance_from_home  distance_from_last_transaction  \\\n",
       "0              57.877857                        0.311140   \n",
       "1              10.829943                        0.175592   \n",
       "2               5.091079                        0.805153   \n",
       "3               2.247564                        5.600044   \n",
       "4              44.190936                        0.566486   \n",
       "...                  ...                             ...   \n",
       "7580            9.362923                        0.200291   \n",
       "7581           34.108569                        0.404725   \n",
       "7582            4.553602                        0.611562   \n",
       "7583           24.534194                        1.359698   \n",
       "7584            9.143585                        2.958172   \n",
       "\n",
       "      ratio_to_median_purchase_price  repeat_retailer  used_chip  \\\n",
       "0                           1.945940                1          1   \n",
       "1                           1.294219                1          0   \n",
       "2                           0.427715                1          0   \n",
       "3                           0.362663                1          1   \n",
       "4                           2.222767                1          1   \n",
       "...                              ...              ...        ...   \n",
       "7580                        0.571386                1          0   \n",
       "7581                        1.339025                1          0   \n",
       "7582                        0.716374                1          0   \n",
       "7583                        0.325697                1          1   \n",
       "7584                        3.693899                1          1   \n",
       "\n",
       "      used_pin_number  online_order  fraud  \n",
       "0                   0             0      0  \n",
       "1                   0             0      0  \n",
       "2                   0             1      0  \n",
       "3                   0             1      0  \n",
       "4                   0             1      0  \n",
       "...               ...           ...    ...  \n",
       "7580                0             1      0  \n",
       "7581                0             1      0  \n",
       "7582                0             1      0  \n",
       "7583                0             1      0  \n",
       "7584                0             1      0  \n",
       "\n",
       "[7585 rows x 8 columns]>"
      ]
     },
     "execution_count": 5,
     "metadata": {},
     "output_type": "execute_result"
    }
   ],
   "source": [
    "df.describe"
   ]
  },
  {
   "cell_type": "code",
   "execution_count": 6,
   "id": "8ff6fa16",
   "metadata": {
    "execution": {
     "iopub.execute_input": "2023-02-14T10:33:05.918054Z",
     "iopub.status.busy": "2023-02-14T10:33:05.917659Z",
     "iopub.status.idle": "2023-02-14T10:33:05.930845Z",
     "shell.execute_reply": "2023-02-14T10:33:05.929725Z"
    },
    "papermill": {
     "duration": 0.022575,
     "end_time": "2023-02-14T10:33:05.933509",
     "exception": false,
     "start_time": "2023-02-14T10:33:05.910934",
     "status": "completed"
    },
    "tags": []
   },
   "outputs": [
    {
     "data": {
      "text/html": [
       "<div>\n",
       "<style scoped>\n",
       "    .dataframe tbody tr th:only-of-type {\n",
       "        vertical-align: middle;\n",
       "    }\n",
       "\n",
       "    .dataframe tbody tr th {\n",
       "        vertical-align: top;\n",
       "    }\n",
       "\n",
       "    .dataframe thead th {\n",
       "        text-align: right;\n",
       "    }\n",
       "</style>\n",
       "<table border=\"1\" class=\"dataframe\">\n",
       "  <thead>\n",
       "    <tr style=\"text-align: right;\">\n",
       "      <th></th>\n",
       "      <th>distance_from_home</th>\n",
       "      <th>distance_from_last_transaction</th>\n",
       "      <th>ratio_to_median_purchase_price</th>\n",
       "      <th>repeat_retailer</th>\n",
       "      <th>used_chip</th>\n",
       "      <th>used_pin_number</th>\n",
       "      <th>online_order</th>\n",
       "      <th>fraud</th>\n",
       "    </tr>\n",
       "  </thead>\n",
       "  <tbody>\n",
       "    <tr>\n",
       "      <th>7580</th>\n",
       "      <td>9.362923</td>\n",
       "      <td>0.200291</td>\n",
       "      <td>0.571386</td>\n",
       "      <td>1</td>\n",
       "      <td>0</td>\n",
       "      <td>0</td>\n",
       "      <td>1</td>\n",
       "      <td>0</td>\n",
       "    </tr>\n",
       "    <tr>\n",
       "      <th>7581</th>\n",
       "      <td>34.108569</td>\n",
       "      <td>0.404725</td>\n",
       "      <td>1.339025</td>\n",
       "      <td>1</td>\n",
       "      <td>0</td>\n",
       "      <td>0</td>\n",
       "      <td>1</td>\n",
       "      <td>0</td>\n",
       "    </tr>\n",
       "    <tr>\n",
       "      <th>7582</th>\n",
       "      <td>4.553602</td>\n",
       "      <td>0.611562</td>\n",
       "      <td>0.716374</td>\n",
       "      <td>1</td>\n",
       "      <td>0</td>\n",
       "      <td>0</td>\n",
       "      <td>1</td>\n",
       "      <td>0</td>\n",
       "    </tr>\n",
       "    <tr>\n",
       "      <th>7583</th>\n",
       "      <td>24.534194</td>\n",
       "      <td>1.359698</td>\n",
       "      <td>0.325697</td>\n",
       "      <td>1</td>\n",
       "      <td>1</td>\n",
       "      <td>0</td>\n",
       "      <td>1</td>\n",
       "      <td>0</td>\n",
       "    </tr>\n",
       "    <tr>\n",
       "      <th>7584</th>\n",
       "      <td>9.143585</td>\n",
       "      <td>2.958172</td>\n",
       "      <td>3.693899</td>\n",
       "      <td>1</td>\n",
       "      <td>1</td>\n",
       "      <td>0</td>\n",
       "      <td>1</td>\n",
       "      <td>0</td>\n",
       "    </tr>\n",
       "  </tbody>\n",
       "</table>\n",
       "</div>"
      ],
      "text/plain": [
       "      distance_from_home  distance_from_last_transaction  \\\n",
       "7580            9.362923                        0.200291   \n",
       "7581           34.108569                        0.404725   \n",
       "7582            4.553602                        0.611562   \n",
       "7583           24.534194                        1.359698   \n",
       "7584            9.143585                        2.958172   \n",
       "\n",
       "      ratio_to_median_purchase_price  repeat_retailer  used_chip  \\\n",
       "7580                        0.571386                1          0   \n",
       "7581                        1.339025                1          0   \n",
       "7582                        0.716374                1          0   \n",
       "7583                        0.325697                1          1   \n",
       "7584                        3.693899                1          1   \n",
       "\n",
       "      used_pin_number  online_order  fraud  \n",
       "7580                0             1      0  \n",
       "7581                0             1      0  \n",
       "7582                0             1      0  \n",
       "7583                0             1      0  \n",
       "7584                0             1      0  "
      ]
     },
     "execution_count": 6,
     "metadata": {},
     "output_type": "execute_result"
    }
   ],
   "source": [
    "df.tail()"
   ]
  },
  {
   "cell_type": "code",
   "execution_count": 7,
   "id": "d2f5d251",
   "metadata": {
    "execution": {
     "iopub.execute_input": "2023-02-14T10:33:05.946663Z",
     "iopub.status.busy": "2023-02-14T10:33:05.946278Z",
     "iopub.status.idle": "2023-02-14T10:33:05.972182Z",
     "shell.execute_reply": "2023-02-14T10:33:05.971073Z"
    },
    "papermill": {
     "duration": 0.035262,
     "end_time": "2023-02-14T10:33:05.974596",
     "exception": false,
     "start_time": "2023-02-14T10:33:05.939334",
     "status": "completed"
    },
    "tags": []
   },
   "outputs": [
    {
     "name": "stdout",
     "output_type": "stream",
     "text": [
      "<class 'pandas.core.frame.DataFrame'>\n",
      "RangeIndex: 7585 entries, 0 to 7584\n",
      "Data columns (total 8 columns):\n",
      " #   Column                          Non-Null Count  Dtype  \n",
      "---  ------                          --------------  -----  \n",
      " 0   distance_from_home              7585 non-null   float64\n",
      " 1   distance_from_last_transaction  7585 non-null   float64\n",
      " 2   ratio_to_median_purchase_price  7585 non-null   float64\n",
      " 3   repeat_retailer                 7585 non-null   int64  \n",
      " 4   used_chip                       7585 non-null   int64  \n",
      " 5   used_pin_number                 7585 non-null   int64  \n",
      " 6   online_order                    7585 non-null   int64  \n",
      " 7   fraud                           7585 non-null   int64  \n",
      "dtypes: float64(3), int64(5)\n",
      "memory usage: 474.2 KB\n"
     ]
    }
   ],
   "source": [
    "df.info()"
   ]
  },
  {
   "cell_type": "code",
   "execution_count": 8,
   "id": "54206889",
   "metadata": {
    "execution": {
     "iopub.execute_input": "2023-02-14T10:33:05.988374Z",
     "iopub.status.busy": "2023-02-14T10:33:05.987938Z",
     "iopub.status.idle": "2023-02-14T10:33:05.994212Z",
     "shell.execute_reply": "2023-02-14T10:33:05.993064Z"
    },
    "papermill": {
     "duration": 0.015985,
     "end_time": "2023-02-14T10:33:05.996508",
     "exception": false,
     "start_time": "2023-02-14T10:33:05.980523",
     "status": "completed"
    },
    "tags": []
   },
   "outputs": [
    {
     "data": {
      "text/plain": [
       "(7585, 8)"
      ]
     },
     "execution_count": 8,
     "metadata": {},
     "output_type": "execute_result"
    }
   ],
   "source": [
    "df.shape"
   ]
  },
  {
   "cell_type": "code",
   "execution_count": 9,
   "id": "6f45dcea",
   "metadata": {
    "execution": {
     "iopub.execute_input": "2023-02-14T10:33:06.010915Z",
     "iopub.status.busy": "2023-02-14T10:33:06.010337Z",
     "iopub.status.idle": "2023-02-14T10:33:06.166012Z",
     "shell.execute_reply": "2023-02-14T10:33:06.163836Z"
    },
    "papermill": {
     "duration": 0.169754,
     "end_time": "2023-02-14T10:33:06.172724",
     "exception": false,
     "start_time": "2023-02-14T10:33:06.002970",
     "status": "completed"
    },
    "tags": []
   },
   "outputs": [
    {
     "data": {
      "text/plain": [
       "<function matplotlib.pyplot.show(close=None, block=None)>"
      ]
     },
     "execution_count": 9,
     "metadata": {},
     "output_type": "execute_result"
    },
    {
     "data": {
      "image/png": "[encoded data removed]",
      "text/plain": [
       "<Figure size 432x288 with 1 Axes>"
      ]
     },
     "metadata": {
      "needs_background": "light"
     },
     "output_type": "display_data"
    }
   ],
   "source": [
    "x = \"distance_from_home\"\n",
    "y = \"repeat_retailer\"\n",
    "plt.scatter(x,y)\n",
    "plt.show"
   ]
  },
  {
   "cell_type": "code",
   "execution_count": 10,
   "id": "c8c4cfde",
   "metadata": {
    "execution": {
     "iopub.execute_input": "2023-02-14T10:33:06.207265Z",
     "iopub.status.busy": "2023-02-14T10:33:06.206557Z",
     "iopub.status.idle": "2023-02-14T10:33:07.018612Z",
     "shell.execute_reply": "2023-02-14T10:33:07.017439Z"
    },
    "papermill": {
     "duration": 0.832582,
     "end_time": "2023-02-14T10:33:07.021056",
     "exception": false,
     "start_time": "2023-02-14T10:33:06.188474",
     "status": "completed"
    },
    "tags": []
   },
   "outputs": [
    {
     "name": "stderr",
     "output_type": "stream",
     "text": [
      "/opt/conda/lib/python3.7/site-packages/seaborn/_decorators.py:43: FutureWarning: Pass the following variable as a keyword arg: x. From version 0.12, the only valid positional argument will be `data`, and passing other arguments without an explicit keyword will result in an error or misinterpretation.\n",
      "  FutureWarning\n",
      "/opt/conda/lib/python3.7/site-packages/seaborn/_decorators.py:43: FutureWarning: Pass the following variable as a keyword arg: x. From version 0.12, the only valid positional argument will be `data`, and passing other arguments without an explicit keyword will result in an error or misinterpretation.\n",
      "  FutureWarning\n",
      "/opt/conda/lib/python3.7/site-packages/seaborn/_decorators.py:43: FutureWarning: Pass the following variable as a keyword arg: x. From version 0.12, the only valid positional argument will be `data`, and passing other arguments without an explicit keyword will result in an error or misinterpretation.\n",
      "  FutureWarning\n",
      "/opt/conda/lib/python3.7/site-packages/seaborn/_decorators.py:43: FutureWarning: Pass the following variable as a keyword arg: x. From version 0.12, the only valid positional argument will be `data`, and passing other arguments without an explicit keyword will result in an error or misinterpretation.\n",
      "  FutureWarning\n",
      "/opt/conda/lib/python3.7/site-packages/seaborn/_decorators.py:43: FutureWarning: Pass the following variable as a keyword arg: x. From version 0.12, the only valid positional argument will be `data`, and passing other arguments without an explicit keyword will result in an error or misinterpretation.\n",
      "  FutureWarning\n",
      "/opt/conda/lib/python3.7/site-packages/seaborn/_decorators.py:43: FutureWarning: Pass the following variable as a keyword arg: x. From version 0.12, the only valid positional argument will be `data`, and passing other arguments without an explicit keyword will result in an error or misinterpretation.\n",
      "  FutureWarning\n",
      "/opt/conda/lib/python3.7/site-packages/seaborn/_decorators.py:43: FutureWarning: Pass the following variable as a keyword arg: x. From version 0.12, the only valid positional argument will be `data`, and passing other arguments without an explicit keyword will result in an error or misinterpretation.\n",
      "  FutureWarning\n"
     ]
    },
    {
     "data": {
      "image/png": "[encoded data removed]",
      "text/plain": [
       "<Figure size 1440x1440 with 7 Axes>"
      ]
     },
     "metadata": {
      "needs_background": "light"
     },
     "output_type": "display_data"
    }
   ],
   "source": [
    "plt.figure(figsize = (20,20))\n",
    "plotnumber = 1\n",
    "for col in df.columns:\n",
    "  if plotnumber <=7:\n",
    "    ax = plt.subplot(5,5,plotnumber)\n",
    "    sns.boxplot(df[col])\n",
    "    plt.xlabel(col,fontsize = 20)\n",
    "  plotnumber +=1\n",
    "plt.tight_layout()\n",
    "plt.show()"
   ]
  },
  {
   "cell_type": "code",
   "execution_count": 11,
   "id": "dabe4227",
   "metadata": {
    "execution": {
     "iopub.execute_input": "2023-02-14T10:33:07.036660Z",
     "iopub.status.busy": "2023-02-14T10:33:07.036225Z",
     "iopub.status.idle": "2023-02-14T10:33:07.936336Z",
     "shell.execute_reply": "2023-02-14T10:33:07.935107Z"
    },
    "papermill": {
     "duration": 0.911012,
     "end_time": "2023-02-14T10:33:07.939175",
     "exception": false,
     "start_time": "2023-02-14T10:33:07.028163",
     "status": "completed"
    },
    "tags": []
   },
   "outputs": [
    {
     "data": {
      "image/png": "[encoded data removed]",
      "text/plain": [
       "<Figure size 1728x720 with 3 Axes>"
      ]
     },
     "metadata": {
      "needs_background": "light"
     },
     "output_type": "display_data"
    }
   ],
   "source": [
    "import missingno as msno\n",
    "msno.bar(df)\n",
    "plt.show()"
   ]
  },
  {
   "cell_type": "code",
   "execution_count": 12,
   "id": "ac890dd4",
   "metadata": {
    "execution": {
     "iopub.execute_input": "2023-02-14T10:33:07.957010Z",
     "iopub.status.busy": "2023-02-14T10:33:07.956269Z",
     "iopub.status.idle": "2023-02-14T10:33:07.962467Z",
     "shell.execute_reply": "2023-02-14T10:33:07.961687Z"
    },
    "papermill": {
     "duration": 0.017809,
     "end_time": "2023-02-14T10:33:07.964747",
     "exception": false,
     "start_time": "2023-02-14T10:33:07.946938",
     "status": "completed"
    },
    "tags": []
   },
   "outputs": [],
   "source": [
    "x = df.drop('fraud', axis =1)\n",
    "y = df['fraud']\n"
   ]
  },
  {
   "cell_type": "code",
   "execution_count": 13,
   "id": "f6b1f11d",
   "metadata": {
    "execution": {
     "iopub.execute_input": "2023-02-14T10:33:07.981944Z",
     "iopub.status.busy": "2023-02-14T10:33:07.981253Z",
     "iopub.status.idle": "2023-02-14T10:33:07.989072Z",
     "shell.execute_reply": "2023-02-14T10:33:07.987998Z"
    },
    "papermill": {
     "duration": 0.019335,
     "end_time": "2023-02-14T10:33:07.991576",
     "exception": false,
     "start_time": "2023-02-14T10:33:07.972241",
     "status": "completed"
    },
    "tags": []
   },
   "outputs": [],
   "source": [
    "x_train, x_test, y_train, y_test=train_test_split (x,y,test_size = 0.7, random_state=5)"
   ]
  },
  {
   "cell_type": "code",
   "execution_count": 14,
   "id": "6b4d258a",
   "metadata": {
    "execution": {
     "iopub.execute_input": "2023-02-14T10:33:08.009128Z",
     "iopub.status.busy": "2023-02-14T10:33:08.008520Z",
     "iopub.status.idle": "2023-02-14T10:33:08.018867Z",
     "shell.execute_reply": "2023-02-14T10:33:08.017996Z"
    },
    "papermill": {
     "duration": 0.021964,
     "end_time": "2023-02-14T10:33:08.021384",
     "exception": false,
     "start_time": "2023-02-14T10:33:07.999420",
     "status": "completed"
    },
    "tags": []
   },
   "outputs": [],
   "source": [
    "a = StandardScaler()\n",
    "x_train = a.fit_transform(x_train)\n",
    "x_test = a.transform(x_test)"
   ]
  },
  {
   "cell_type": "code",
   "execution_count": 15,
   "id": "055b795b",
   "metadata": {
    "execution": {
     "iopub.execute_input": "2023-02-14T10:33:08.039340Z",
     "iopub.status.busy": "2023-02-14T10:33:08.038582Z",
     "iopub.status.idle": "2023-02-14T10:33:08.048418Z",
     "shell.execute_reply": "2023-02-14T10:33:08.047452Z"
    },
    "papermill": {
     "duration": 0.021467,
     "end_time": "2023-02-14T10:33:08.050866",
     "exception": false,
     "start_time": "2023-02-14T10:33:08.029399",
     "status": "completed"
    },
    "tags": []
   },
   "outputs": [
    {
     "data": {
      "text/plain": [
       "GaussianNB()"
      ]
     },
     "execution_count": 15,
     "metadata": {},
     "output_type": "execute_result"
    }
   ],
   "source": [
    "clf = GaussianNB()\n",
    "clf.fit(x_train,y_train)"
   ]
  },
  {
   "cell_type": "code",
   "execution_count": 16,
   "id": "eb787226",
   "metadata": {
    "execution": {
     "iopub.execute_input": "2023-02-14T10:33:08.068858Z",
     "iopub.status.busy": "2023-02-14T10:33:08.068358Z",
     "iopub.status.idle": "2023-02-14T10:33:08.078188Z",
     "shell.execute_reply": "2023-02-14T10:33:08.076949Z"
    },
    "papermill": {
     "duration": 0.022353,
     "end_time": "2023-02-14T10:33:08.080971",
     "exception": false,
     "start_time": "2023-02-14T10:33:08.058618",
     "status": "completed"
    },
    "tags": []
   },
   "outputs": [],
   "source": [
    "y_pred = clf.predict(x_test)"
   ]
  },
  {
   "cell_type": "code",
   "execution_count": 17,
   "id": "b139680c",
   "metadata": {
    "execution": {
     "iopub.execute_input": "2023-02-14T10:33:08.098637Z",
     "iopub.status.busy": "2023-02-14T10:33:08.098208Z",
     "iopub.status.idle": "2023-02-14T10:33:08.109115Z",
     "shell.execute_reply": "2023-02-14T10:33:08.108289Z"
    },
    "papermill": {
     "duration": 0.022554,
     "end_time": "2023-02-14T10:33:08.111442",
     "exception": false,
     "start_time": "2023-02-14T10:33:08.088888",
     "status": "completed"
    },
    "tags": []
   },
   "outputs": [
    {
     "data": {
      "text/plain": [
       "array([[4759,   91],\n",
       "       [ 258,  202]])"
      ]
     },
     "execution_count": 17,
     "metadata": {},
     "output_type": "execute_result"
    }
   ],
   "source": [
    "cm = confusion_matrix(y_test,y_pred)\n",
    "cm"
   ]
  },
  {
   "cell_type": "code",
   "execution_count": 18,
   "id": "1e53bef7",
   "metadata": {
    "execution": {
     "iopub.execute_input": "2023-02-14T10:33:08.129446Z",
     "iopub.status.busy": "2023-02-14T10:33:08.128997Z",
     "iopub.status.idle": "2023-02-14T10:33:08.137539Z",
     "shell.execute_reply": "2023-02-14T10:33:08.136672Z"
    },
    "papermill": {
     "duration": 0.019851,
     "end_time": "2023-02-14T10:33:08.139815",
     "exception": false,
     "start_time": "2023-02-14T10:33:08.119964",
     "status": "completed"
    },
    "tags": []
   },
   "outputs": [
    {
     "data": {
      "text/plain": [
       "0.9342749529190207"
      ]
     },
     "execution_count": 18,
     "metadata": {},
     "output_type": "execute_result"
    }
   ],
   "source": [
    "from sklearn.metrics import accuracy_score\n",
    "accuracy_score(y_test, y_pred)"
   ]
  }
 ],
 "metadata": {
  "kernelspec": {
   "display_name": "Python 3",
   "language": "python",
   "name": "python3"
  },
  "language_info": {
   "codemirror_mode": {
    "name": "ipython",
    "version": 3
   },
   "file_extension": ".py",
   "mimetype": "text/x-python",
   "name": "python",
   "nbconvert_exporter": "python",
   "pygments_lexer": "ipython3",
   "version": "3.7.12"
  },
  "papermill": {
   "default_parameters": {},
   "duration": 13.109931,
   "end_time": "2023-02-14T10:33:08.970592",
   "environment_variables": {},
   "exception": null,
   "input_path": "__notebook__.ipynb",
   "output_path": "__notebook__.ipynb",
   "parameters": {},
   "start_time": "2023-02-14T10:32:55.860661",
   "version": "2.3.4"
  }
 },
 "nbformat": 4,
 "nbformat_minor": 5
}
